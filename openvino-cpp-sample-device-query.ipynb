{
 "cells": [
  {
   "cell_type": "markdown",
   "id": "b875b31c",
   "metadata": {},
   "source": [
    "# OpenVINO™ Query Devices sample"
   ]
  },
  {
   "cell_type": "markdown",
   "id": "09abd9f4",
   "metadata": {},
   "source": [
    "This samples notebook explains the basics of the OpenVINO Runtime device query functionality. It covers:\n",
    "\n",
    "- [Create Core object and query available devices](#Create-core-object-and-get-available-devices)\n",
    "- [Get device properties](#Get-device-properties)\n",
    "- [Set device configuration properties](#Setting-device-configuration-properties)"
   ]
  },
  {
   "cell_type": "markdown",
   "id": "9ed058f4",
   "metadata": {},
   "source": [
    "## Create Core object and query available devices\n",
    "\n",
    "Initialize OpenVINO Runtime with creation of `Core` object:"
   ]
  },
  {
   "cell_type": "code",
   "execution_count": 15,
   "id": "c08b79c4",
   "metadata": {},
   "outputs": [
    {
     "data": {
      "text/plain": [
       "{ \"CPU\" }"
      ]
     },
     "execution_count": 15,
     "metadata": {},
     "output_type": "execute_result"
    }
   ],
   "source": [
    "#pragma cling add_include_path(\"$HOME/mambaforge/envs/cling/include/ie/\")\n",
    "#pragma cling load(\"$HOME/mambaforge/envs/cling//lib/libopenvino.so\")\n",
    "\n",
    "#include <iostream>\n",
    "#include <openvino/openvino.hpp>\n",
    "\n",
    "ov::Core core;\n",
    "auto available_devices = core.get_available_devices();\n",
    "available_devices"
   ]
  },
  {
   "cell_type": "markdown",
   "id": "68bc4125",
   "metadata": {},
   "source": [
    "`ov::Core::get_available_devices` provides a list of devices available for inference."
   ]
  },
  {
   "cell_type": "markdown",
   "id": "a2e81780-e0b0-4bcb-8620-672e2de8cb98",
   "metadata": {},
   "source": [
    "## Get device properties"
   ]
  },
  {
   "cell_type": "markdown",
   "id": "aa506fce-4696-428e-844e-fb8820544cd4",
   "metadata": {},
   "source": [
    "In the code block below, we go over all the available devices and get their properties:"
   ]
  },
  {
   "cell_type": "code",
   "execution_count": 16,
   "id": "d0c94f76",
   "metadata": {},
   "outputs": [
    {
     "name": "stdout",
     "output_type": "stream",
     "text": [
      "CPU\n",
      "\tSUPPORTED_PROPERTIES: \n",
      "\t\tImmutable: AVAILABLE_DEVICES : \n",
      "\t\tImmutable: RANGE_FOR_ASYNC_INFER_REQUESTS : 1 1 1\n",
      "\t\tImmutable: RANGE_FOR_STREAMS : 1 112\n",
      "\t\tImmutable: FULL_DEVICE_NAME : Intel(R) Xeon(R) Gold 6348 CPU @ 2.60GHz\u0000\u0000\u0000\u0000\u0000\u0000\u0000\u0000\n",
      "\t\tImmutable: OPTIMIZATION_CAPABILITIES : WINOGRAD FP32 FP16 INT8 BIN EXPORT_IMPORT\n",
      "\t\tImmutable: CACHING_PROPERTIES : \n",
      "\t\tImmutable: CACHE_DIR : \n",
      "\t\tMutable: NUM_STREAMS : 1\n",
      "\t\tMutable: AFFINITY : CORE\n",
      "\t\tMutable: INFERENCE_NUM_THREADS : 0\n",
      "\t\tMutable: PERF_COUNT : NO\n",
      "\t\tMutable: INFERENCE_PRECISION_HINT : f32\n",
      "\t\tMutable: PERFORMANCE_HINT : \n",
      "\t\tMutable: PERFORMANCE_HINT_NUM_REQUESTS : 0\n",
      "\n"
     ]
    }
   ],
   "source": [
    "for (auto && device : available_devices) {\n",
    "    std::cout << device << std::endl;\n",
    "\n",
    "    std::cout << \"\\tSUPPORTED_PROPERTIES: \" << std::endl;\n",
    "    auto supported_properties = core.get_property(device, ov::supported_properties);\n",
    "    for (auto&& property : supported_properties) {\n",
    "        if (property != ov::supported_properties.name()) {\n",
    "            auto property_value = core.get_property(device, property);\n",
    "            std::cout\n",
    "                << \"\\t\\t\"\n",
    "                << (property.is_mutable() ? \"Mutable: \" : \"Immutable: \")\n",
    "                << property\n",
    "                << \" : \"\n",
    "                << (property_value.empty() ? \"EMPTY VALUE\" : property_value.as<std::string>())\n",
    "                << std::endl;\n",
    "        }\n",
    "    }\n",
    "\n",
    "   std::cout << std::endl;\n",
    "}"
   ]
  },
  {
   "cell_type": "markdown",
   "id": "d189a73c",
   "metadata": {},
   "source": [
    "## Set device configuration properties"
   ]
  },
  {
   "cell_type": "markdown",
   "id": "43fd2136-541a-494d-9d16-1c7bf9b91bb7",
   "metadata": {},
   "source": [
    "Mutable device properties can be changed to affect model loading process and consequent execution:"
   ]
  },
  {
   "cell_type": "code",
   "execution_count": 17,
   "id": "b5a7686b-b9e0-44a6-8b6e-5b299d085eac",
   "metadata": {},
   "outputs": [
    {
     "data": {
      "text/plain": [
       "0"
      ]
     },
     "execution_count": 17,
     "metadata": {},
     "output_type": "execute_result"
    }
   ],
   "source": [
    "core.get_property(\"CPU\", ov::inference_num_threads)"
   ]
  },
  {
   "cell_type": "markdown",
   "id": "91234b29-757e-40a7-bda5-4fc63a2368c7",
   "metadata": {},
   "source": [
    "Then, we can set the property value and make sure it's changed:"
   ]
  },
  {
   "cell_type": "code",
   "execution_count": 18,
   "id": "df6f9e9c-e327-47f7-8845-e3c91051b370",
   "metadata": {},
   "outputs": [
    {
     "data": {
      "text/plain": [
       "4"
      ]
     },
     "execution_count": 18,
     "metadata": {},
     "output_type": "execute_result"
    }
   ],
   "source": [
    "core.set_property(\"CPU\", ov::inference_num_threads(4));\n",
    "core.get_property(\"CPU\", ov::inference_num_threads)"
   ]
  },
  {
   "cell_type": "code",
   "execution_count": null,
   "id": "d5d65b24-9d85-4f74-be10-3f25bc98a66a",
   "metadata": {},
   "outputs": [],
   "source": []
  }
 ],
 "metadata": {
  "interpreter": {
   "hash": "ae617ccb002f72b3ab6d0069d721eac67ac2a969e83c083c4321cfcab0437cd1"
  },
  "kernelspec": {
   "display_name": "C++14",
   "language": "C++14",
   "name": "xcpp14"
  },
  "language_info": {
   "codemirror_mode": "text/x-c++src",
   "file_extension": ".cpp",
   "mimetype": "text/x-c++src",
   "name": "c++",
   "version": "14"
  }
 },
 "nbformat": 4,
 "nbformat_minor": 5
}
